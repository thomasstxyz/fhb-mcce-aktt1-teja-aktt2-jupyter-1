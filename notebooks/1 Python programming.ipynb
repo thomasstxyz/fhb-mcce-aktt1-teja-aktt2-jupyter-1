{
 "cells": [
  {
   "cell_type": "code",
   "execution_count": 48,
   "id": "f4b1b402",
   "metadata": {},
   "outputs": [
    {
     "data": {
      "text/plain": [
       "276"
      ]
     },
     "execution_count": 48,
     "metadata": {},
     "output_type": "execute_result"
    }
   ],
   "source": [
    "12*23"
   ]
  },
  {
   "cell_type": "code",
   "execution_count": 49,
   "id": "5c12da89",
   "metadata": {},
   "outputs": [
    {
     "data": {
      "text/plain": [
       "130"
      ]
     },
     "execution_count": 49,
     "metadata": {},
     "output_type": "execute_result"
    }
   ],
   "source": [
    "123+7"
   ]
  },
  {
   "cell_type": "code",
   "execution_count": 50,
   "id": "4bb32fd9",
   "metadata": {},
   "outputs": [],
   "source": [
    "x=11"
   ]
  },
  {
   "cell_type": "code",
   "execution_count": 51,
   "id": "6e0db439",
   "metadata": {},
   "outputs": [
    {
     "data": {
      "text/plain": [
       "11"
      ]
     },
     "execution_count": 51,
     "metadata": {},
     "output_type": "execute_result"
    }
   ],
   "source": [
    "x"
   ]
  },
  {
   "cell_type": "code",
   "execution_count": 52,
   "id": "3e811957",
   "metadata": {},
   "outputs": [],
   "source": [
    "y=2"
   ]
  },
  {
   "cell_type": "code",
   "execution_count": 53,
   "id": "148ff96b",
   "metadata": {},
   "outputs": [
    {
     "data": {
      "text/plain": [
       "13"
      ]
     },
     "execution_count": 53,
     "metadata": {},
     "output_type": "execute_result"
    }
   ],
   "source": [
    "x+y"
   ]
  },
  {
   "cell_type": "code",
   "execution_count": 54,
   "id": "4b8723ce",
   "metadata": {},
   "outputs": [
    {
     "data": {
      "text/plain": [
       "-9"
      ]
     },
     "execution_count": 54,
     "metadata": {},
     "output_type": "execute_result"
    }
   ],
   "source": [
    "y-x"
   ]
  },
  {
   "cell_type": "code",
   "execution_count": 55,
   "id": "996a5836",
   "metadata": {},
   "outputs": [
    {
     "data": {
      "text/plain": [
       "5.5"
      ]
     },
     "execution_count": 55,
     "metadata": {},
     "output_type": "execute_result"
    }
   ],
   "source": [
    "x/y"
   ]
  },
  {
   "cell_type": "code",
   "execution_count": 56,
   "id": "5bdf4bfb",
   "metadata": {},
   "outputs": [
    {
     "data": {
      "text/plain": [
       "5"
      ]
     },
     "execution_count": 56,
     "metadata": {},
     "output_type": "execute_result"
    }
   ],
   "source": [
    "# Floor division = division without remainder\n",
    "x//y"
   ]
  },
  {
   "cell_type": "code",
   "execution_count": 57,
   "id": "775239b8",
   "metadata": {},
   "outputs": [
    {
     "data": {
      "text/plain": [
       "16"
      ]
     },
     "execution_count": 57,
     "metadata": {},
     "output_type": "execute_result"
    }
   ],
   "source": [
    "2 ** 4"
   ]
  },
  {
   "cell_type": "markdown",
   "id": "82bd157f",
   "metadata": {},
   "source": [
    "#### This is a markdown cell"
   ]
  },
  {
   "cell_type": "markdown",
   "id": "9a411b00",
   "metadata": {},
   "source": [
    "# Markdown\n",
    "Making your notebook readable and for documentation\n",
    "\n",
    "# Using variables\n",
    "Defining and using variables in a program.\n",
    "\n",
    "<i>Billa sells a pack of chips for €1,59 and makes a profit of 17% per pack. How much profit does it make if it sells 200 packs of chips.</i>"
   ]
  },
  {
   "cell_type": "code",
   "execution_count": 58,
   "id": "b26248ba",
   "metadata": {},
   "outputs": [
    {
     "data": {
      "text/plain": [
       "54.06000000000001"
      ]
     },
     "execution_count": 58,
     "metadata": {},
     "output_type": "execute_result"
    }
   ],
   "source": [
    "0.17 * 1.59 * 200"
   ]
  },
  {
   "cell_type": "code",
   "execution_count": 59,
   "id": "27c15f4a",
   "metadata": {},
   "outputs": [],
   "source": [
    "profit_margin = 0.17\n",
    "cost_per_pack = 1.59\n",
    "number_of_packs = 200"
   ]
  },
  {
   "cell_type": "code",
   "execution_count": 60,
   "id": "7333abbe",
   "metadata": {},
   "outputs": [
    {
     "data": {
      "text/plain": [
       "54.06000000000001"
      ]
     },
     "execution_count": 60,
     "metadata": {},
     "output_type": "execute_result"
    }
   ],
   "source": [
    "profit_margin * cost_per_pack * number_of_packs"
   ]
  },
  {
   "cell_type": "code",
   "execution_count": 61,
   "id": "33278f74",
   "metadata": {},
   "outputs": [],
   "source": [
    "profit_per_pack = profit_margin * cost_per_pack"
   ]
  },
  {
   "cell_type": "code",
   "execution_count": 62,
   "id": "06640de9",
   "metadata": {},
   "outputs": [],
   "source": [
    "total_profit = profit_per_pack * number_of_packs"
   ]
  },
  {
   "cell_type": "code",
   "execution_count": 63,
   "id": "e37b9052",
   "metadata": {},
   "outputs": [
    {
     "data": {
      "text/plain": [
       "54.06000000000001"
      ]
     },
     "execution_count": 63,
     "metadata": {},
     "output_type": "execute_result"
    }
   ],
   "source": [
    "total_profit"
   ]
  },
  {
   "cell_type": "markdown",
   "id": "7c2f7e99",
   "metadata": {},
   "source": [
    "# Using Functions\n",
    "A function is a reusable set of instructions"
   ]
  },
  {
   "cell_type": "code",
   "execution_count": 64,
   "id": "6a6f7419",
   "metadata": {},
   "outputs": [
    {
     "name": "stdout",
     "output_type": "stream",
     "text": [
      "54.06000000000001\n"
     ]
    }
   ],
   "source": [
    "print(total_profit)"
   ]
  },
  {
   "cell_type": "code",
   "execution_count": 65,
   "id": "b9c8132f",
   "metadata": {},
   "outputs": [
    {
     "name": "stdout",
     "output_type": "stream",
     "text": [
      "Total profit for 200 packs =  54.06000000000001\n"
     ]
    }
   ],
   "source": [
    "print(\"Total profit for 200 packs = \", total_profit)"
   ]
  },
  {
   "cell_type": "markdown",
   "id": "ef6c5974",
   "metadata": {},
   "source": [
    "# Multiple lines of code"
   ]
  },
  {
   "cell_type": "code",
   "execution_count": 69,
   "id": "a05f3cfb",
   "metadata": {},
   "outputs": [
    {
     "name": "stdout",
     "output_type": "stream",
     "text": [
      "Total profit for 500 packs =  214.65000000000003\n"
     ]
    }
   ],
   "source": [
    "profit_margin = 0.27\n",
    "cost_per_pack = 1.59\n",
    "number_of_packs = 500\n",
    "\n",
    "profit_per_pack = profit_margin * cost_per_pack\n",
    "\n",
    "total_profit = profit_per_pack * number_of_packs\n",
    "\n",
    "print(\"Total profit for 500 packs = \", total_profit)"
   ]
  },
  {
   "cell_type": "code",
   "execution_count": 70,
   "id": "a85ed882",
   "metadata": {},
   "outputs": [
    {
     "name": "stdout",
     "output_type": "stream",
     "text": [
      "Total profit for  800  packs =  216.24000000000004\n"
     ]
    }
   ],
   "source": [
    "profit_margin = 0.17\n",
    "cost_per_pack = 1.59\n",
    "number_of_packs = 800\n",
    "\n",
    "profit_per_pack = profit_margin * cost_per_pack\n",
    "\n",
    "total_profit = profit_per_pack * number_of_packs\n",
    "\n",
    "print(\"Total profit for \",number_of_packs, \" packs = \", total_profit)"
   ]
  },
  {
   "cell_type": "markdown",
   "id": "7ab676f6",
   "metadata": {},
   "source": [
    "# Adding comments"
   ]
  },
  {
   "cell_type": "code",
   "execution_count": 73,
   "id": "8014eb1e",
   "metadata": {},
   "outputs": [
    {
     "name": "stdout",
     "output_type": "stream",
     "text": [
      "Total profit for  200  packs =  54.06000000000001\n"
     ]
    }
   ],
   "source": [
    "\"\"\"\n",
    "This program calculates the \n",
    "total profit for sale of chips\n",
    "This is another line\n",
    "another\n",
    "\"\"\"\n",
    "# Defining and initializing variables\n",
    "profit_margin = 0.17\n",
    "cost_per_pack = 1.59\n",
    "number_of_packs = 200\n",
    "\n",
    "# Calculating\n",
    "profit_per_pack = profit_margin * cost_per_pack\n",
    "\n",
    "total_profit = profit_per_pack * number_of_packs\n",
    "\n",
    "# Generating output\n",
    "print(\"Total profit for \",number_of_packs, \" packs = \", total_profit)"
   ]
  },
  {
   "cell_type": "markdown",
   "id": "4487796b",
   "metadata": {},
   "source": [
    "# Practice Assignment\n",
    "Given the net price of 5 items, write a program to calculate the total amount including VAT (MwSt) of 20% on 3 items and 10% on 2 items."
   ]
  },
  {
   "cell_type": "code",
   "execution_count": 74,
   "id": "a3823d5d",
   "metadata": {},
   "outputs": [
    {
     "name": "stdout",
     "output_type": "stream",
     "text": [
      "47.589999999999996\n"
     ]
    }
   ],
   "source": [
    "#20% VAT\n",
    "item1_net = 23.2\n",
    "item2_net = 4.2\n",
    "item3_net = 4.1\n",
    "\n",
    "#10% VAT\n",
    "item4_net = 3.3\n",
    "item5_net = 5.6\n",
    "\n",
    "# Calculating 20% VAT\n",
    "items_20_vat = 0.2 * (item1_net + item2_net + item3_net)\n",
    "items_20_total = items_20_vat + (item1_net + item2_net + item3_net)\n",
    "\n",
    "# Calculating 10% VAT\n",
    "items_10_vat = 0.1 * (item4_net + item5_net)\n",
    "items_10_total = items_10_vat + (item4_net + item5_net)\n",
    "\n",
    "#Total\n",
    "total_amount = items_20_total + items_10_total\n",
    "\n",
    "print(total_amount)"
   ]
  },
  {
   "cell_type": "markdown",
   "id": "2bf8761b",
   "metadata": {},
   "source": [
    "# Logical operators\n",
    "These operators are used for performing logical checks / conditions. \n",
    "\n",
    "<i>If in the given problem, how do we check if the total profit is more than 50 or more than 100?</i>"
   ]
  },
  {
   "cell_type": "code",
   "execution_count": 75,
   "id": "5a7b267e",
   "metadata": {},
   "outputs": [
    {
     "name": "stdout",
     "output_type": "stream",
     "text": [
      "54.06000000000001\n"
     ]
    }
   ],
   "source": [
    "print(total_profit)"
   ]
  },
  {
   "cell_type": "code",
   "execution_count": 76,
   "id": "a247ee7b",
   "metadata": {},
   "outputs": [
    {
     "data": {
      "text/plain": [
       "True"
      ]
     },
     "execution_count": 76,
     "metadata": {},
     "output_type": "execute_result"
    }
   ],
   "source": [
    "total_profit > 50"
   ]
  },
  {
   "cell_type": "code",
   "execution_count": 77,
   "id": "d11e8c59",
   "metadata": {},
   "outputs": [
    {
     "data": {
      "text/plain": [
       "False"
      ]
     },
     "execution_count": 77,
     "metadata": {},
     "output_type": "execute_result"
    }
   ],
   "source": [
    "total_profit > 100"
   ]
  },
  {
   "cell_type": "code",
   "execution_count": 78,
   "id": "ba801212",
   "metadata": {},
   "outputs": [
    {
     "data": {
      "text/plain": [
       "True"
      ]
     },
     "execution_count": 78,
     "metadata": {},
     "output_type": "execute_result"
    }
   ],
   "source": [
    "total_profit >= 54.06000000000001"
   ]
  },
  {
   "cell_type": "code",
   "execution_count": 81,
   "id": "ad61e806",
   "metadata": {},
   "outputs": [
    {
     "data": {
      "text/plain": [
       "True"
      ]
     },
     "execution_count": 81,
     "metadata": {},
     "output_type": "execute_result"
    }
   ],
   "source": [
    "total_profit <= 100"
   ]
  },
  {
   "cell_type": "code",
   "execution_count": 83,
   "id": "d159d99f",
   "metadata": {},
   "outputs": [
    {
     "data": {
      "text/plain": [
       "True"
      ]
     },
     "execution_count": 83,
     "metadata": {},
     "output_type": "execute_result"
    }
   ],
   "source": [
    "total_profit != 10"
   ]
  },
  {
   "cell_type": "markdown",
   "id": "5a95b6c3",
   "metadata": {},
   "source": [
    "# Varables and Data Types\n",
    "Variable name cannot contain spaces or special characters and must not start with a number. "
   ]
  },
  {
   "cell_type": "code",
   "execution_count": 84,
   "id": "9b1fc352",
   "metadata": {},
   "outputs": [],
   "source": [
    "vat20 = 12"
   ]
  },
  {
   "cell_type": "code",
   "execution_count": 85,
   "id": "d2174a03",
   "metadata": {},
   "outputs": [],
   "source": [
    "color1 = \"red\""
   ]
  },
  {
   "cell_type": "code",
   "execution_count": 86,
   "id": "b668f70e",
   "metadata": {},
   "outputs": [],
   "source": [
    "color2 = \"blue\""
   ]
  },
  {
   "cell_type": "code",
   "execution_count": 87,
   "id": "a866097f",
   "metadata": {},
   "outputs": [
    {
     "data": {
      "text/plain": [
       "'redblue'"
      ]
     },
     "execution_count": 87,
     "metadata": {},
     "output_type": "execute_result"
    }
   ],
   "source": [
    "color1 + color2"
   ]
  },
  {
   "cell_type": "code",
   "execution_count": 88,
   "id": "3ff8a026",
   "metadata": {},
   "outputs": [
    {
     "data": {
      "text/plain": [
       "('red', 'blue')"
      ]
     },
     "execution_count": 88,
     "metadata": {},
     "output_type": "execute_result"
    }
   ],
   "source": [
    "color1, color2"
   ]
  },
  {
   "cell_type": "code",
   "execution_count": 89,
   "id": "2998b186",
   "metadata": {},
   "outputs": [],
   "source": [
    "color2 = \"yellow\""
   ]
  },
  {
   "cell_type": "code",
   "execution_count": 90,
   "id": "84b7a942",
   "metadata": {},
   "outputs": [],
   "source": [
    "counter = 1"
   ]
  },
  {
   "cell_type": "code",
   "execution_count": 91,
   "id": "3183e5e3",
   "metadata": {},
   "outputs": [],
   "source": [
    "counter = counter + 1"
   ]
  },
  {
   "cell_type": "code",
   "execution_count": 92,
   "id": "30346fcd",
   "metadata": {},
   "outputs": [
    {
     "data": {
      "text/plain": [
       "2"
      ]
     },
     "execution_count": 92,
     "metadata": {},
     "output_type": "execute_result"
    }
   ],
   "source": [
    "counter"
   ]
  },
  {
   "cell_type": "code",
   "execution_count": 93,
   "id": "9a28edd3",
   "metadata": {},
   "outputs": [],
   "source": [
    "counter += 1"
   ]
  },
  {
   "cell_type": "code",
   "execution_count": 94,
   "id": "549b2b1e",
   "metadata": {},
   "outputs": [
    {
     "data": {
      "text/plain": [
       "3"
      ]
     },
     "execution_count": 94,
     "metadata": {},
     "output_type": "execute_result"
    }
   ],
   "source": [
    "counter"
   ]
  },
  {
   "cell_type": "code",
   "execution_count": 95,
   "id": "781dfe14",
   "metadata": {},
   "outputs": [],
   "source": [
    "set_of_colors = (\"red\", \"blue\", \"green\")"
   ]
  },
  {
   "cell_type": "code",
   "execution_count": 96,
   "id": "a601f9d1",
   "metadata": {},
   "outputs": [
    {
     "data": {
      "text/plain": [
       "('red', 'blue', 'green')"
      ]
     },
     "execution_count": 96,
     "metadata": {},
     "output_type": "execute_result"
    }
   ],
   "source": [
    "set_of_colors"
   ]
  },
  {
   "cell_type": "code",
   "execution_count": 97,
   "id": "01fce469",
   "metadata": {},
   "outputs": [
    {
     "data": {
      "text/plain": [
       "tuple"
      ]
     },
     "execution_count": 97,
     "metadata": {},
     "output_type": "execute_result"
    }
   ],
   "source": [
    "type(set_of_colors)"
   ]
  },
  {
   "cell_type": "code",
   "execution_count": 98,
   "id": "3f9cccbb",
   "metadata": {},
   "outputs": [],
   "source": [
    "colors = [\"red\",\"blue\",\"green\"]"
   ]
  },
  {
   "cell_type": "code",
   "execution_count": 99,
   "id": "38abffb3",
   "metadata": {},
   "outputs": [
    {
     "data": {
      "text/plain": [
       "list"
      ]
     },
     "execution_count": 99,
     "metadata": {},
     "output_type": "execute_result"
    }
   ],
   "source": [
    "type(colors)"
   ]
  },
  {
   "cell_type": "code",
   "execution_count": 100,
   "id": "a976ddaa",
   "metadata": {},
   "outputs": [],
   "source": [
    "pi = 3.14"
   ]
  },
  {
   "cell_type": "code",
   "execution_count": 101,
   "id": "8d05477d",
   "metadata": {},
   "outputs": [
    {
     "data": {
      "text/plain": [
       "float"
      ]
     },
     "execution_count": 101,
     "metadata": {},
     "output_type": "execute_result"
    }
   ],
   "source": [
    "type(pi)"
   ]
  },
  {
   "cell_type": "code",
   "execution_count": 102,
   "id": "4e23cf07",
   "metadata": {},
   "outputs": [
    {
     "data": {
      "text/plain": [
       "3"
      ]
     },
     "execution_count": 102,
     "metadata": {},
     "output_type": "execute_result"
    }
   ],
   "source": [
    "int(pi)"
   ]
  },
  {
   "cell_type": "code",
   "execution_count": 104,
   "id": "bcb5d2cf",
   "metadata": {},
   "outputs": [
    {
     "data": {
      "text/plain": [
       "3"
      ]
     },
     "execution_count": 104,
     "metadata": {},
     "output_type": "execute_result"
    }
   ],
   "source": [
    "x = int(pi)\n",
    "x"
   ]
  },
  {
   "cell_type": "code",
   "execution_count": 105,
   "id": "77f43f76",
   "metadata": {},
   "outputs": [
    {
     "data": {
      "text/plain": [
       "2.0"
      ]
     },
     "execution_count": 105,
     "metadata": {},
     "output_type": "execute_result"
    }
   ],
   "source": [
    "8/4"
   ]
  },
  {
   "cell_type": "code",
   "execution_count": 106,
   "id": "0994f51a",
   "metadata": {},
   "outputs": [
    {
     "data": {
      "text/plain": [
       "float"
      ]
     },
     "execution_count": 106,
     "metadata": {},
     "output_type": "execute_result"
    }
   ],
   "source": [
    "type(8/4)"
   ]
  },
  {
   "cell_type": "code",
   "execution_count": 107,
   "id": "6296411a",
   "metadata": {},
   "outputs": [],
   "source": [
    "a_string = \"March\""
   ]
  },
  {
   "cell_type": "code",
   "execution_count": 108,
   "id": "13e52f21",
   "metadata": {},
   "outputs": [
    {
     "data": {
      "text/plain": [
       "str"
      ]
     },
     "execution_count": 108,
     "metadata": {},
     "output_type": "execute_result"
    }
   ],
   "source": [
    "type(a_string)"
   ]
  },
  {
   "cell_type": "code",
   "execution_count": 109,
   "id": "ddfb04e1",
   "metadata": {},
   "outputs": [
    {
     "data": {
      "text/plain": [
       "5"
      ]
     },
     "execution_count": 109,
     "metadata": {},
     "output_type": "execute_result"
    }
   ],
   "source": [
    "len(a_string)"
   ]
  },
  {
   "cell_type": "code",
   "execution_count": 110,
   "id": "c677b5e4",
   "metadata": {},
   "outputs": [],
   "source": [
    "a_string += \"April\""
   ]
  },
  {
   "cell_type": "code",
   "execution_count": 111,
   "id": "90f2cb9c",
   "metadata": {},
   "outputs": [
    {
     "data": {
      "text/plain": [
       "'MarchApril'"
      ]
     },
     "execution_count": 111,
     "metadata": {},
     "output_type": "execute_result"
    }
   ],
   "source": [
    "a_string"
   ]
  },
  {
   "cell_type": "code",
   "execution_count": 112,
   "id": "2b2780cd",
   "metadata": {},
   "outputs": [],
   "source": [
    "l_string = list(a_string)"
   ]
  },
  {
   "cell_type": "code",
   "execution_count": 113,
   "id": "d39826f0",
   "metadata": {},
   "outputs": [
    {
     "data": {
      "text/plain": [
       "list"
      ]
     },
     "execution_count": 113,
     "metadata": {},
     "output_type": "execute_result"
    }
   ],
   "source": [
    "type(l_string)"
   ]
  },
  {
   "cell_type": "code",
   "execution_count": 115,
   "id": "8734032f",
   "metadata": {},
   "outputs": [
    {
     "data": {
      "text/plain": [
       "['M', 'a', 'r', 'c', 'h', 'A', 'p', 'r', 'i', 'l']"
      ]
     },
     "execution_count": 115,
     "metadata": {},
     "output_type": "execute_result"
    }
   ],
   "source": [
    "l_string"
   ]
  },
  {
   "cell_type": "code",
   "execution_count": 116,
   "id": "17ff12bb",
   "metadata": {},
   "outputs": [
    {
     "data": {
      "text/plain": [
       "str"
      ]
     },
     "execution_count": 116,
     "metadata": {},
     "output_type": "execute_result"
    }
   ],
   "source": [
    "type(a_string)"
   ]
  },
  {
   "cell_type": "code",
   "execution_count": 117,
   "id": "c0dc85b2",
   "metadata": {},
   "outputs": [
    {
     "data": {
      "text/plain": [
       "'M'"
      ]
     },
     "execution_count": 117,
     "metadata": {},
     "output_type": "execute_result"
    }
   ],
   "source": [
    "a_string[0]"
   ]
  },
  {
   "cell_type": "code",
   "execution_count": 118,
   "id": "835e7abb",
   "metadata": {},
   "outputs": [
    {
     "data": {
      "text/plain": [
       "'rchAp'"
      ]
     },
     "execution_count": 118,
     "metadata": {},
     "output_type": "execute_result"
    }
   ],
   "source": [
    "a_string[2:7]"
   ]
  },
  {
   "cell_type": "code",
   "execution_count": 119,
   "id": "0b2d1e72",
   "metadata": {},
   "outputs": [
    {
     "data": {
      "text/plain": [
       "True"
      ]
     },
     "execution_count": 119,
     "metadata": {},
     "output_type": "execute_result"
    }
   ],
   "source": [
    "\"ri\" in a_string"
   ]
  },
  {
   "cell_type": "code",
   "execution_count": 120,
   "id": "cfe380c3",
   "metadata": {},
   "outputs": [
    {
     "data": {
      "text/plain": [
       "'marchapril'"
      ]
     },
     "execution_count": 120,
     "metadata": {},
     "output_type": "execute_result"
    }
   ],
   "source": [
    "a_string.lower()"
   ]
  },
  {
   "cell_type": "code",
   "execution_count": 121,
   "id": "33b3b0c0",
   "metadata": {},
   "outputs": [
    {
     "data": {
      "text/plain": [
       "'MARCHAPRIL'"
      ]
     },
     "execution_count": 121,
     "metadata": {},
     "output_type": "execute_result"
    }
   ],
   "source": [
    "a_string.upper()"
   ]
  },
  {
   "cell_type": "code",
   "execution_count": 122,
   "id": "9a47291c",
   "metadata": {},
   "outputs": [
    {
     "data": {
      "text/plain": [
       "'MarchApril'"
      ]
     },
     "execution_count": 122,
     "metadata": {},
     "output_type": "execute_result"
    }
   ],
   "source": [
    "a_string"
   ]
  },
  {
   "cell_type": "code",
   "execution_count": 123,
   "id": "2226eba6",
   "metadata": {},
   "outputs": [],
   "source": [
    "another_string = a_string.replace(\"April\", \"MAY\")"
   ]
  },
  {
   "cell_type": "code",
   "execution_count": 124,
   "id": "5f839fda",
   "metadata": {},
   "outputs": [
    {
     "data": {
      "text/plain": [
       "'MarchMAY'"
      ]
     },
     "execution_count": 124,
     "metadata": {},
     "output_type": "execute_result"
    }
   ],
   "source": [
    "another_string"
   ]
  },
  {
   "cell_type": "code",
   "execution_count": 125,
   "id": "292ebd11",
   "metadata": {},
   "outputs": [
    {
     "name": "stdout",
     "output_type": "stream",
     "text": [
      "If I have {} apples and I divide them between {} people, each person gets at least {} \n",
      "apples each\n"
     ]
    }
   ],
   "source": [
    "num_apples = 10\n",
    "num_people = 3\n",
    "\n",
    "output_template = \"\"\"If I have {} apples and I divide them between {} people, each person gets at least {} \n",
    "apples each\"\"\"\n",
    "\n",
    "print(output_template)"
   ]
  },
  {
   "cell_type": "code",
   "execution_count": 126,
   "id": "55f607ad",
   "metadata": {},
   "outputs": [
    {
     "name": "stdout",
     "output_type": "stream",
     "text": [
      "If I have 10 apples and I divide them between 3 people, each person gets at least 3 \n",
      "apples each\n"
     ]
    }
   ],
   "source": [
    "output_message = output_template.format(num_apples, num_people, num_apples//num_people)\n",
    "print(output_message)"
   ]
  },
  {
   "cell_type": "code",
   "execution_count": 127,
   "id": "0074cd46",
   "metadata": {},
   "outputs": [
    {
     "name": "stdout",
     "output_type": "stream",
     "text": [
      "If I have 10 apples and I divide them between 3 people, each person gets at least 3 \n",
      "apples each\n"
     ]
    }
   ],
   "source": [
    "num_apples = 10\n",
    "num_people = 3\n",
    "\n",
    "output_template = \"\"\"If I have {} apples and I divide them between {} people, each person gets at least {} \n",
    "apples each\"\"\"\n",
    "\n",
    "output_message = output_template.format(num_apples, num_people, num_apples//num_people)\n",
    "\n",
    "print(output_message)"
   ]
  },
  {
   "cell_type": "code",
   "execution_count": 128,
   "id": "8f1f749b",
   "metadata": {},
   "outputs": [],
   "source": [
    "name1 = \"Jane\"\n",
    "name2 = \"John\""
   ]
  },
  {
   "cell_type": "code",
   "execution_count": 129,
   "id": "b92e8177",
   "metadata": {},
   "outputs": [
    {
     "data": {
      "text/plain": [
       "False"
      ]
     },
     "execution_count": 129,
     "metadata": {},
     "output_type": "execute_result"
    }
   ],
   "source": [
    "name1 == name2"
   ]
  },
  {
   "cell_type": "code",
   "execution_count": 130,
   "id": "638ba650",
   "metadata": {},
   "outputs": [
    {
     "data": {
      "text/plain": [
       "True"
      ]
     },
     "execution_count": 130,
     "metadata": {},
     "output_type": "execute_result"
    }
   ],
   "source": [
    "name1 != name2"
   ]
  },
  {
   "cell_type": "code",
   "execution_count": 131,
   "id": "96c25fb6",
   "metadata": {},
   "outputs": [
    {
     "data": {
      "text/plain": [
       "['red', 'blue', 'green']"
      ]
     },
     "execution_count": 131,
     "metadata": {},
     "output_type": "execute_result"
    }
   ],
   "source": [
    "colors"
   ]
  },
  {
   "cell_type": "code",
   "execution_count": 132,
   "id": "f7ecf60b",
   "metadata": {},
   "outputs": [
    {
     "data": {
      "text/plain": [
       "'blue'"
      ]
     },
     "execution_count": 132,
     "metadata": {},
     "output_type": "execute_result"
    }
   ],
   "source": [
    "colors[1]"
   ]
  },
  {
   "cell_type": "code",
   "execution_count": 133,
   "id": "360588a2",
   "metadata": {},
   "outputs": [
    {
     "ename": "IndexError",
     "evalue": "list index out of range",
     "output_type": "error",
     "traceback": [
      "\u001b[1;31m---------------------------------------------------------------------------\u001b[0m",
      "\u001b[1;31mIndexError\u001b[0m                                Traceback (most recent call last)",
      "\u001b[1;32m~\\AppData\\Local\\Temp/ipykernel_20792/4142415021.py\u001b[0m in \u001b[0;36m<module>\u001b[1;34m\u001b[0m\n\u001b[1;32m----> 1\u001b[1;33m \u001b[0mcolors\u001b[0m\u001b[1;33m[\u001b[0m\u001b[1;36m5\u001b[0m\u001b[1;33m]\u001b[0m\u001b[1;33m\u001b[0m\u001b[1;33m\u001b[0m\u001b[0m\n\u001b[0m",
      "\u001b[1;31mIndexError\u001b[0m: list index out of range"
     ]
    }
   ],
   "source": [
    "colors[5]"
   ]
  },
  {
   "cell_type": "code",
   "execution_count": 134,
   "id": "0baf1a1e",
   "metadata": {},
   "outputs": [
    {
     "data": {
      "text/plain": [
       "'green'"
      ]
     },
     "execution_count": 134,
     "metadata": {},
     "output_type": "execute_result"
    }
   ],
   "source": [
    "colors[-1]"
   ]
  },
  {
   "cell_type": "code",
   "execution_count": 135,
   "id": "e5a4f126",
   "metadata": {},
   "outputs": [
    {
     "data": {
      "text/plain": [
       "'blue'"
      ]
     },
     "execution_count": 135,
     "metadata": {},
     "output_type": "execute_result"
    }
   ],
   "source": [
    "colors[-2]"
   ]
  },
  {
   "cell_type": "code",
   "execution_count": 136,
   "id": "34378666",
   "metadata": {},
   "outputs": [
    {
     "data": {
      "text/plain": [
       "3"
      ]
     },
     "execution_count": 136,
     "metadata": {},
     "output_type": "execute_result"
    }
   ],
   "source": [
    "len(colors)"
   ]
  },
  {
   "cell_type": "code",
   "execution_count": 137,
   "id": "cebad3a2",
   "metadata": {},
   "outputs": [],
   "source": [
    "colors.append('yellow')"
   ]
  },
  {
   "cell_type": "code",
   "execution_count": 138,
   "id": "675aaca7",
   "metadata": {},
   "outputs": [
    {
     "data": {
      "text/plain": [
       "['red', 'blue', 'green', 'yellow']"
      ]
     },
     "execution_count": 138,
     "metadata": {},
     "output_type": "execute_result"
    }
   ],
   "source": [
    "colors"
   ]
  },
  {
   "cell_type": "code",
   "execution_count": 139,
   "id": "397758c6",
   "metadata": {},
   "outputs": [],
   "source": [
    "colors.remove('blue')"
   ]
  },
  {
   "cell_type": "code",
   "execution_count": 140,
   "id": "090e025d",
   "metadata": {},
   "outputs": [
    {
     "data": {
      "text/plain": [
       "['red', 'green', 'yellow']"
      ]
     },
     "execution_count": 140,
     "metadata": {},
     "output_type": "execute_result"
    }
   ],
   "source": [
    "colors"
   ]
  },
  {
   "cell_type": "code",
   "execution_count": 141,
   "id": "4afa0b99",
   "metadata": {},
   "outputs": [
    {
     "data": {
      "text/plain": [
       "False"
      ]
     },
     "execution_count": 141,
     "metadata": {},
     "output_type": "execute_result"
    }
   ],
   "source": [
    "'gray' in colors"
   ]
  },
  {
   "cell_type": "code",
   "execution_count": 142,
   "id": "a4fcf207",
   "metadata": {},
   "outputs": [],
   "source": [
    "more_colors = colors + ['pink', 'black']"
   ]
  },
  {
   "cell_type": "code",
   "execution_count": 143,
   "id": "b28c1229",
   "metadata": {},
   "outputs": [
    {
     "data": {
      "text/plain": [
       "['red', 'green', 'yellow', 'pink', 'black']"
      ]
     },
     "execution_count": 143,
     "metadata": {},
     "output_type": "execute_result"
    }
   ],
   "source": [
    "more_colors"
   ]
  },
  {
   "cell_type": "markdown",
   "id": "4222a473",
   "metadata": {},
   "source": [
    "### Dictionary\n",
    "A dictionary is an unordered collection of items. Each item in a dictionary has a key and value. \n",
    "Keys are used to retrieve values from a dictionary."
   ]
  },
  {
   "cell_type": "code",
   "execution_count": 144,
   "id": "38c708a7",
   "metadata": {},
   "outputs": [],
   "source": [
    "customer1 = {\n",
    "    'name': 'Ronald McDonald',\n",
    "    'gender': 'Male',\n",
    "    'age': 35,\n",
    "    'active': True\n",
    "}"
   ]
  },
  {
   "cell_type": "code",
   "execution_count": 145,
   "id": "01a99fd5",
   "metadata": {},
   "outputs": [
    {
     "data": {
      "text/plain": [
       "{'name': 'Ronald McDonald', 'gender': 'Male', 'age': 35, 'active': True}"
      ]
     },
     "execution_count": 145,
     "metadata": {},
     "output_type": "execute_result"
    }
   ],
   "source": [
    "customer1"
   ]
  },
  {
   "cell_type": "code",
   "execution_count": 146,
   "id": "e871a30d",
   "metadata": {},
   "outputs": [
    {
     "data": {
      "text/plain": [
       "dict"
      ]
     },
     "execution_count": 146,
     "metadata": {},
     "output_type": "execute_result"
    }
   ],
   "source": [
    "type(customer1)"
   ]
  },
  {
   "cell_type": "code",
   "execution_count": 147,
   "id": "c7ee85a0",
   "metadata": {},
   "outputs": [
    {
     "data": {
      "text/plain": [
       "35"
      ]
     },
     "execution_count": 147,
     "metadata": {},
     "output_type": "execute_result"
    }
   ],
   "source": [
    "customer1['age']"
   ]
  },
  {
   "cell_type": "code",
   "execution_count": 148,
   "id": "337fc2dc",
   "metadata": {},
   "outputs": [
    {
     "data": {
      "text/plain": [
       "True"
      ]
     },
     "execution_count": 148,
     "metadata": {},
     "output_type": "execute_result"
    }
   ],
   "source": [
    "'age' in customer1"
   ]
  },
  {
   "cell_type": "code",
   "execution_count": 149,
   "id": "c3c2c259",
   "metadata": {},
   "outputs": [],
   "source": [
    "customer1['address'] = 'Hütteldorferstr 123, 1140 Wien'"
   ]
  },
  {
   "cell_type": "code",
   "execution_count": 150,
   "id": "47da0213",
   "metadata": {},
   "outputs": [
    {
     "data": {
      "text/plain": [
       "{'name': 'Ronald McDonald',\n",
       " 'gender': 'Male',\n",
       " 'age': 35,\n",
       " 'active': True,\n",
       " 'address': 'Hütteldorferstr 123, 1140 Wien'}"
      ]
     },
     "execution_count": 150,
     "metadata": {},
     "output_type": "execute_result"
    }
   ],
   "source": [
    "customer1"
   ]
  },
  {
   "cell_type": "code",
   "execution_count": 151,
   "id": "ce074ab3",
   "metadata": {},
   "outputs": [
    {
     "data": {
      "text/plain": [
       "dict_keys(['name', 'gender', 'age', 'active', 'address'])"
      ]
     },
     "execution_count": 151,
     "metadata": {},
     "output_type": "execute_result"
    }
   ],
   "source": [
    "customer1.keys()"
   ]
  },
  {
   "cell_type": "code",
   "execution_count": 152,
   "id": "978b2775",
   "metadata": {},
   "outputs": [
    {
     "data": {
      "text/plain": [
       "dict_values(['Ronald McDonald', 'Male', 35, True, 'Hütteldorferstr 123, 1140 Wien'])"
      ]
     },
     "execution_count": 152,
     "metadata": {},
     "output_type": "execute_result"
    }
   ],
   "source": [
    "customer1.values()"
   ]
  },
  {
   "cell_type": "code",
   "execution_count": 153,
   "id": "e444ba33",
   "metadata": {},
   "outputs": [
    {
     "data": {
      "text/plain": [
       "'Hütteldorferstr 123, 1140 Wien'"
      ]
     },
     "execution_count": 153,
     "metadata": {},
     "output_type": "execute_result"
    }
   ],
   "source": [
    "customer1.pop('address')"
   ]
  },
  {
   "cell_type": "code",
   "execution_count": 154,
   "id": "5e96f05f",
   "metadata": {},
   "outputs": [
    {
     "data": {
      "text/plain": [
       "{'name': 'Ronald McDonald', 'gender': 'Male', 'age': 35, 'active': True}"
      ]
     },
     "execution_count": 154,
     "metadata": {},
     "output_type": "execute_result"
    }
   ],
   "source": [
    "customer1"
   ]
  },
  {
   "cell_type": "code",
   "execution_count": 163,
   "id": "c1479b79",
   "metadata": {},
   "outputs": [],
   "source": [
    "x = ['one', 'two', 'three']\n",
    "y = ['a', 'b', 'c']"
   ]
  },
  {
   "cell_type": "code",
   "execution_count": 164,
   "id": "6ea43d14",
   "metadata": {},
   "outputs": [],
   "source": [
    "z = zip(x,y)"
   ]
  },
  {
   "cell_type": "code",
   "execution_count": 165,
   "id": "91ed5862",
   "metadata": {},
   "outputs": [
    {
     "name": "stdout",
     "output_type": "stream",
     "text": [
      "(('one', 'a'), ('two', 'b'), ('three', 'c'))\n"
     ]
    }
   ],
   "source": [
    "print(tuple(z))"
   ]
  },
  {
   "cell_type": "markdown",
   "id": "4c709090",
   "metadata": {},
   "source": [
    "# Branching and Looping"
   ]
  },
  {
   "cell_type": "code",
   "execution_count": 170,
   "id": "f9f349d6",
   "metadata": {},
   "outputs": [
    {
     "name": "stdout",
     "output_type": "stream",
     "text": [
      "This customer is more than 30 years old\n",
      "another line\n"
     ]
    }
   ],
   "source": [
    "if customer1['age'] > 30:\n",
    "    print('This customer is more than 30 years old')\n",
    "    print('another line')"
   ]
  },
  {
   "cell_type": "code",
   "execution_count": 171,
   "id": "3ac67b60",
   "metadata": {},
   "outputs": [
    {
     "name": "stdout",
     "output_type": "stream",
     "text": [
      "Customer Ronald McDonald is more than 30 years old\n"
     ]
    }
   ],
   "source": [
    "if customer1['age'] > 30:\n",
    "    print('Customer {} is more than 30 years old'.format(customer1['name']))"
   ]
  },
  {
   "cell_type": "code",
   "execution_count": 172,
   "id": "1fffcc79",
   "metadata": {},
   "outputs": [
    {
     "name": "stdout",
     "output_type": "stream",
     "text": [
      "Ronald McDonald is active\n"
     ]
    }
   ],
   "source": [
    "if customer1['active']:\n",
    "    print(\"{} is active\".format(customer1['name']))\n",
    "else:\n",
    "    print(\"{} is not active\".format(customer1['name']))"
   ]
  },
  {
   "cell_type": "code",
   "execution_count": 174,
   "id": "ddfb5183",
   "metadata": {},
   "outputs": [
    {
     "name": "stdout",
     "output_type": "stream",
     "text": [
      "day = 2\n"
     ]
    }
   ],
   "source": [
    "# To evaluate multiple options use elif\n",
    "day = 'Tuesday'\n",
    "\n",
    "if day == 'Monday':\n",
    "    print('day = 1')\n",
    "elif day == 'Tuesday':\n",
    "    print('day = 2')\n",
    "elif day == 'Wednesday':\n",
    "    print('day = 3')\n",
    "else:\n",
    "    print('day = n')"
   ]
  },
  {
   "cell_type": "code",
   "execution_count": 176,
   "id": "8c8547a2",
   "metadata": {},
   "outputs": [
    {
     "name": "stdout",
     "output_type": "stream",
     "text": [
      "Customer Ronald McDonald is more than 30 years old\n",
      "...and is a male\n"
     ]
    }
   ],
   "source": [
    "if customer1['age'] > 30:\n",
    "    print('Customer {} is more than 30 years old'.format(customer1['name']))\n",
    "    if customer1['gender'] == 'Male':\n",
    "        print('...and is a male')"
   ]
  },
  {
   "cell_type": "markdown",
   "id": "618b2395",
   "metadata": {},
   "source": [
    "# Practice Exercise\n",
    "Write a program to convert a given percentage value into a corresponding letter grade based on these conditions:\n",
    "\n",
    "`100%  - 87.5% => A\n",
    "87.4% - 75%   => B\n",
    "74.9% - 62,5% => C\n",
    "62.4% - 50%   => D\n",
    "49.9% - 0%    => E\n",
    "`\n"
   ]
  },
  {
   "cell_type": "code",
   "execution_count": 177,
   "id": "52b58d33",
   "metadata": {},
   "outputs": [
    {
     "name": "stdout",
     "output_type": "stream",
     "text": [
      "For val = 70, the grade is C\n"
     ]
    }
   ],
   "source": [
    "# Code here\n",
    "val = 70\n",
    "if val >= 87.5:\n",
    "    grade = 'A'\n",
    "elif val >= 75:\n",
    "    grade = 'B'\n",
    "elif val >= 62.5:\n",
    "    grade = 'C'\n",
    "elif val >= 50:\n",
    "    grade = 'D'\n",
    "else:\n",
    "    grade = 'E'\n",
    "print('For val = {}, the grade is {}'.format(val, grade))"
   ]
  },
  {
   "cell_type": "markdown",
   "id": "c8d3ff27",
   "metadata": {},
   "source": [
    "### While loop"
   ]
  },
  {
   "cell_type": "code",
   "execution_count": 178,
   "id": "07d95f79",
   "metadata": {},
   "outputs": [
    {
     "name": "stdout",
     "output_type": "stream",
     "text": [
      "The sum of the first 100 number is: 5050\n"
     ]
    }
   ],
   "source": [
    "#Adding the first 100 number\n",
    "result = 0\n",
    "i = 1\n",
    "\n",
    "while i <= 100:\n",
    "    result = result + i\n",
    "    i = i + 1\n",
    "\n",
    "print('The sum of the first 100 number is: {}'.format(result))"
   ]
  },
  {
   "cell_type": "code",
   "execution_count": 179,
   "id": "feb70f66",
   "metadata": {},
   "outputs": [
    {
     "ename": "KeyboardInterrupt",
     "evalue": "",
     "output_type": "error",
     "traceback": [
      "\u001b[1;31m---------------------------------------------------------------------------\u001b[0m",
      "\u001b[1;31mKeyboardInterrupt\u001b[0m                         Traceback (most recent call last)",
      "\u001b[1;32m~\\AppData\\Local\\Temp/ipykernel_20792/3698904419.py\u001b[0m in \u001b[0;36m<module>\u001b[1;34m\u001b[0m\n\u001b[0;32m      4\u001b[0m \u001b[1;33m\u001b[0m\u001b[0m\n\u001b[0;32m      5\u001b[0m \u001b[1;32mwhile\u001b[0m \u001b[0mi\u001b[0m \u001b[1;33m<=\u001b[0m \u001b[1;36m100\u001b[0m\u001b[1;33m:\u001b[0m\u001b[1;33m\u001b[0m\u001b[1;33m\u001b[0m\u001b[0m\n\u001b[1;32m----> 6\u001b[1;33m     \u001b[0mresult\u001b[0m \u001b[1;33m=\u001b[0m \u001b[0mresult\u001b[0m \u001b[1;33m+\u001b[0m \u001b[0mi\u001b[0m\u001b[1;33m\u001b[0m\u001b[1;33m\u001b[0m\u001b[0m\n\u001b[0m\u001b[0;32m      7\u001b[0m \u001b[1;31m#    print(result)\u001b[0m\u001b[1;33m\u001b[0m\u001b[1;33m\u001b[0m\u001b[0m\n\u001b[0;32m      8\u001b[0m \u001b[1;31m#    i += 1\u001b[0m\u001b[1;33m\u001b[0m\u001b[1;33m\u001b[0m\u001b[0m\n",
      "\u001b[1;31mKeyboardInterrupt\u001b[0m: "
     ]
    }
   ],
   "source": [
    "#What happens to this program?\n",
    "result = 0\n",
    "i = 1\n",
    "\n",
    "while i <= 100:\n",
    "    result = result + i\n",
    "#    print(result)\n",
    "#    i += 1\n",
    "\n",
    "print('The sum of the first 100 number is: {}'.format(result))"
   ]
  },
  {
   "cell_type": "markdown",
   "id": "54b63885",
   "metadata": {},
   "source": [
    "### For loop"
   ]
  },
  {
   "cell_type": "code",
   "execution_count": 180,
   "id": "63037c73",
   "metadata": {},
   "outputs": [
    {
     "data": {
      "text/plain": [
       "['red', 'green', 'yellow']"
      ]
     },
     "execution_count": 180,
     "metadata": {},
     "output_type": "execute_result"
    }
   ],
   "source": [
    "colors"
   ]
  },
  {
   "cell_type": "code",
   "execution_count": 181,
   "id": "3c81ddbb",
   "metadata": {},
   "outputs": [
    {
     "name": "stdout",
     "output_type": "stream",
     "text": [
      "red\n",
      "green\n",
      "yellow\n"
     ]
    }
   ],
   "source": [
    "for something in colors:\n",
    "    print(something)"
   ]
  },
  {
   "cell_type": "code",
   "execution_count": 182,
   "id": "162c4587",
   "metadata": {},
   "outputs": [
    {
     "name": "stdout",
     "output_type": "stream",
     "text": [
      "J\n",
      "a\n",
      "n\n",
      "u\n",
      "a\n",
      "r\n",
      "y\n"
     ]
    }
   ],
   "source": [
    "for some_char in 'January':\n",
    "    print(some_char)"
   ]
  },
  {
   "cell_type": "code",
   "execution_count": 183,
   "id": "6a7bbb49",
   "metadata": {},
   "outputs": [
    {
     "data": {
      "text/plain": [
       "{'name': 'Ronald McDonald', 'gender': 'Male', 'age': 35, 'active': True}"
      ]
     },
     "execution_count": 183,
     "metadata": {},
     "output_type": "execute_result"
    }
   ],
   "source": [
    "customer1"
   ]
  },
  {
   "cell_type": "code",
   "execution_count": 184,
   "id": "9056ceb5",
   "metadata": {},
   "outputs": [
    {
     "name": "stdout",
     "output_type": "stream",
     "text": [
      "name Ronald McDonald\n",
      "gender Male\n",
      "age 35\n",
      "active True\n"
     ]
    }
   ],
   "source": [
    "for key in customer1:\n",
    "    print(key, customer1[key])"
   ]
  },
  {
   "cell_type": "code",
   "execution_count": 185,
   "id": "c5c57e7e",
   "metadata": {},
   "outputs": [
    {
     "name": "stdout",
     "output_type": "stream",
     "text": [
      "('name', 'Ronald McDonald')\n",
      "('gender', 'Male')\n",
      "('age', 35)\n",
      "('active', True)\n"
     ]
    }
   ],
   "source": [
    "for x in customer1.items():\n",
    "    print(x)"
   ]
  },
  {
   "cell_type": "code",
   "execution_count": 186,
   "id": "907a2e39",
   "metadata": {},
   "outputs": [
    {
     "name": "stdout",
     "output_type": "stream",
     "text": [
      "0\n",
      "1\n",
      "2\n",
      "3\n",
      "4\n",
      "5\n",
      "6\n",
      "7\n",
      "8\n",
      "9\n"
     ]
    }
   ],
   "source": [
    "for i in range(10):\n",
    "    print(i)"
   ]
  },
  {
   "cell_type": "code",
   "execution_count": 187,
   "id": "cee9c7bb",
   "metadata": {},
   "outputs": [
    {
     "name": "stdout",
     "output_type": "stream",
     "text": [
      "Position in list = 0, day of week = Monday\n",
      "Position in list = 1, day of week = Tuesday\n",
      "Position in list = 2, day of week = Wednesday\n",
      "Position in list = 3, day of week = Thursday\n",
      "Position in list = 4, day of week = Friday\n"
     ]
    }
   ],
   "source": [
    "days = ['Monday', 'Tuesday', 'Wednesday', 'Thursday', 'Friday']\n",
    "for i in range(len(days)):\n",
    "    print('Position in list = {}, day of week = {}'.format(i, days[i]))"
   ]
  },
  {
   "cell_type": "code",
   "execution_count": 188,
   "id": "8f52f5e3",
   "metadata": {},
   "outputs": [
    {
     "name": "stdout",
     "output_type": "stream",
     "text": [
      "Day of week = Monday\n",
      "Day of week = Tuesday\n",
      "Day of week = Wednesday\n",
      "Day of week = Thursday\n",
      "Day of week = Friday\n"
     ]
    }
   ],
   "source": [
    "for i in days:\n",
    "    print('Day of week = {}'.format(i))"
   ]
  },
  {
   "cell_type": "markdown",
   "id": "f5981d68",
   "metadata": {},
   "source": [
    "# Functions\n",
    "\"print\" for example is a function that we have already used."
   ]
  },
  {
   "cell_type": "code",
   "execution_count": 189,
   "id": "578e7554",
   "metadata": {},
   "outputs": [],
   "source": [
    "def say_hello():\n",
    "    print('Hello')\n",
    "    print('How are you?')"
   ]
  },
  {
   "cell_type": "code",
   "execution_count": 190,
   "id": "35e5c8a7",
   "metadata": {},
   "outputs": [
    {
     "name": "stdout",
     "output_type": "stream",
     "text": [
      "Hello\n",
      "How are you?\n"
     ]
    }
   ],
   "source": [
    "say_hello() #Calling the function"
   ]
  },
  {
   "cell_type": "code",
   "execution_count": 191,
   "id": "505c97c5",
   "metadata": {},
   "outputs": [],
   "source": [
    "def say_hello(name):\n",
    "    print('Hello {}. How are you?'.format(name))"
   ]
  },
  {
   "cell_type": "code",
   "execution_count": 192,
   "id": "d1e9104d",
   "metadata": {},
   "outputs": [
    {
     "name": "stdout",
     "output_type": "stream",
     "text": [
      "Hello Susi. How are you?\n"
     ]
    }
   ],
   "source": [
    "say_hello(\"Susi\")"
   ]
  },
  {
   "cell_type": "code",
   "execution_count": 193,
   "id": "de782beb",
   "metadata": {},
   "outputs": [],
   "source": [
    "#Calculating square of a number and returning it\n",
    "def square(num):\n",
    "    sq_num = num * num\n",
    "    return(sq_num)"
   ]
  },
  {
   "cell_type": "code",
   "execution_count": 194,
   "id": "6e52c37a",
   "metadata": {},
   "outputs": [
    {
     "data": {
      "text/plain": [
       "25"
      ]
     },
     "execution_count": 194,
     "metadata": {},
     "output_type": "execute_result"
    }
   ],
   "source": [
    "square(5)"
   ]
  },
  {
   "cell_type": "code",
   "execution_count": 195,
   "id": "d7c6b566",
   "metadata": {},
   "outputs": [],
   "source": [
    "result = square(7)"
   ]
  },
  {
   "cell_type": "code",
   "execution_count": 196,
   "id": "906eee7e",
   "metadata": {},
   "outputs": [
    {
     "data": {
      "text/plain": [
       "49"
      ]
     },
     "execution_count": 196,
     "metadata": {},
     "output_type": "execute_result"
    }
   ],
   "source": [
    "result"
   ]
  },
  {
   "cell_type": "code",
   "execution_count": 197,
   "id": "d7df0ff7",
   "metadata": {},
   "outputs": [
    {
     "ename": "NameError",
     "evalue": "name 'sq_num' is not defined",
     "output_type": "error",
     "traceback": [
      "\u001b[1;31m---------------------------------------------------------------------------\u001b[0m",
      "\u001b[1;31mNameError\u001b[0m                                 Traceback (most recent call last)",
      "\u001b[1;32m~\\AppData\\Local\\Temp/ipykernel_20792/1371722655.py\u001b[0m in \u001b[0;36m<module>\u001b[1;34m\u001b[0m\n\u001b[1;32m----> 1\u001b[1;33m \u001b[0msq_num\u001b[0m\u001b[1;33m\u001b[0m\u001b[1;33m\u001b[0m\u001b[0m\n\u001b[0m",
      "\u001b[1;31mNameError\u001b[0m: name 'sq_num' is not defined"
     ]
    }
   ],
   "source": [
    "sq_num"
   ]
  },
  {
   "cell_type": "code",
   "execution_count": 198,
   "id": "5d6b421a",
   "metadata": {},
   "outputs": [
    {
     "ename": "NameError",
     "evalue": "name 'num' is not defined",
     "output_type": "error",
     "traceback": [
      "\u001b[1;31m---------------------------------------------------------------------------\u001b[0m",
      "\u001b[1;31mNameError\u001b[0m                                 Traceback (most recent call last)",
      "\u001b[1;32m~\\AppData\\Local\\Temp/ipykernel_20792/1167458927.py\u001b[0m in \u001b[0;36m<module>\u001b[1;34m\u001b[0m\n\u001b[1;32m----> 1\u001b[1;33m \u001b[0mnum\u001b[0m\u001b[1;33m\u001b[0m\u001b[1;33m\u001b[0m\u001b[0m\n\u001b[0m",
      "\u001b[1;31mNameError\u001b[0m: name 'num' is not defined"
     ]
    }
   ],
   "source": [
    "num"
   ]
  },
  {
   "cell_type": "markdown",
   "id": "54f7e8cf",
   "metadata": {},
   "source": [
    "### Using Libraries"
   ]
  },
  {
   "cell_type": "code",
   "execution_count": 199,
   "id": "d5b7f136",
   "metadata": {},
   "outputs": [],
   "source": [
    "import math"
   ]
  },
  {
   "cell_type": "code",
   "execution_count": 200,
   "id": "2fd78874",
   "metadata": {},
   "outputs": [
    {
     "name": "stdout",
     "output_type": "stream",
     "text": [
      "Help on built-in function remainder in module math:\n",
      "\n",
      "remainder(x, y, /)\n",
      "    Difference between x and the closest integer multiple of y.\n",
      "    \n",
      "    Return x - n*y where n*y is the closest integer multiple of y.\n",
      "    In the case where x is exactly halfway between two multiples of\n",
      "    y, the nearest even value of n is used. The result is always exact.\n",
      "\n"
     ]
    }
   ],
   "source": [
    "help(math.remainder)"
   ]
  },
  {
   "cell_type": "code",
   "execution_count": 201,
   "id": "60c4694f",
   "metadata": {},
   "outputs": [
    {
     "data": {
      "text/plain": [
       "0.0"
      ]
     },
     "execution_count": 201,
     "metadata": {},
     "output_type": "execute_result"
    }
   ],
   "source": [
    "math.remainder(10,2)"
   ]
  },
  {
   "cell_type": "code",
   "execution_count": 202,
   "id": "71b34f1f",
   "metadata": {},
   "outputs": [
    {
     "data": {
      "text/plain": [
       "1.0"
      ]
     },
     "execution_count": 202,
     "metadata": {},
     "output_type": "execute_result"
    }
   ],
   "source": [
    "math.remainder(10,3)"
   ]
  },
  {
   "cell_type": "markdown",
   "id": "8845400e",
   "metadata": {},
   "source": [
    "# Practice Exercise\n",
    "Write a function `fx_filter(my_list, my_letter)` that takes `my_list` and `my_letter` as inputs and returns a subset of `my_list` with only those values that start with `my_letter`.\n",
    "\n",
    "For example: \n",
    "\n",
    "`my_list = ['Monkey', 'Tiger', 'Basket', 'Crocodile', 'Cat', 'Table', 'Monday', 'Breakfast']\n",
    "my_letter = 'T'\n",
    "result = ['Tiger', 'Table']`"
   ]
  },
  {
   "cell_type": "code",
   "execution_count": 203,
   "id": "63468652",
   "metadata": {
    "tags": [
     "hide-cell"
    ]
   },
   "outputs": [],
   "source": [
    "def fx_filter(my_list, my_letter):\n",
    "    outlist = []\n",
    "    for element in my_list:\n",
    "        if element[0] == my_letter:\n",
    "            outlist.append(element)\n",
    "    return(outlist)"
   ]
  },
  {
   "cell_type": "code",
   "execution_count": 204,
   "id": "cd3b470e",
   "metadata": {},
   "outputs": [],
   "source": [
    "my_list = ['Monkey', 'Tiger', 'Basket', 'Crocodile', 'Cat', 'Table', 'Monday', 'Breakfast']\n",
    "my_letter = 'M'       \n",
    "newvar = fx_filter(my_list, my_letter)"
   ]
  },
  {
   "cell_type": "code",
   "execution_count": 205,
   "id": "a5f2bc79",
   "metadata": {},
   "outputs": [
    {
     "data": {
      "text/plain": [
       "['Monkey', 'Monday']"
      ]
     },
     "execution_count": 205,
     "metadata": {},
     "output_type": "execute_result"
    }
   ],
   "source": [
    "newvar"
   ]
  },
  {
   "cell_type": "code",
   "execution_count": null,
   "id": "03cf3d3c",
   "metadata": {},
   "outputs": [],
   "source": [
    "fx_filter(['Monkey', 'Tiger', 'Basket', 'Crocodile', 'Cat', 'Table', 'Monday', 'Breakfast'], 'B')"
   ]
  },
  {
   "cell_type": "code",
   "execution_count": null,
   "id": "d963eb54",
   "metadata": {},
   "outputs": [],
   "source": [
    "outlist = []\n",
    "for element in my_list:\n",
    "    print(element)\n",
    "    print(element[0])\n",
    "    if element[0] == my_letter:\n",
    "        outlist.append(element)\n",
    "        print('outlist', outlist)"
   ]
  },
  {
   "cell_type": "markdown",
   "id": "231b6e74",
   "metadata": {},
   "source": [
    "# Reading from and writing to files "
   ]
  },
  {
   "cell_type": "code",
   "execution_count": 209,
   "id": "059fbc73",
   "metadata": {},
   "outputs": [
    {
     "name": "stdout",
     "output_type": "stream",
     "text": [
      "['ABC\\n', 'DEF\\n', 'GHI\\n']\n"
     ]
    }
   ],
   "source": [
    "filename = \"testfile1.txt\"\n",
    "\n",
    "with open(filename) as f:\n",
    "    content = f.readlines()\n",
    "\n",
    "print(content)"
   ]
  },
  {
   "cell_type": "code",
   "execution_count": 211,
   "id": "3b096f5c",
   "metadata": {},
   "outputs": [
    {
     "name": "stdout",
     "output_type": "stream",
     "text": [
      "This is the value in the variable content ['ABC\\n', 'DEF\\n', 'GHI\\n']\n"
     ]
    }
   ],
   "source": [
    "# To read files with multiple lines.\n",
    "filename = \"testfile1.txt\"\n",
    "\n",
    "with open(filename) as f:\n",
    "    content = f.readlines()\n",
    "\n",
    "print('This is the value in the variable content', content)\n",
    "\n",
    "# for line in content:\n",
    "#     print(line)\n",
    "#     #print (line[-3])\n"
   ]
  },
  {
   "cell_type": "code",
   "execution_count": 210,
   "id": "e191ca27",
   "metadata": {},
   "outputs": [
    {
     "data": {
      "text/plain": [
       "list"
      ]
     },
     "execution_count": 210,
     "metadata": {},
     "output_type": "execute_result"
    }
   ],
   "source": [
    "type(content)"
   ]
  },
  {
   "cell_type": "code",
   "execution_count": 212,
   "id": "24f2b326",
   "metadata": {},
   "outputs": [],
   "source": [
    "f = open(\"test.txt\",\"w\")\n",
    "\n",
    "f.write(\"This data will be written to the file.\")\n",
    "f.close()"
   ]
  },
  {
   "cell_type": "code",
   "execution_count": 216,
   "id": "ac56a842",
   "metadata": {},
   "outputs": [],
   "source": [
    "f = open(\"test2.txt\",\"a\")\n",
    "\n",
    "f.write(\"This data will be written to the file.\")\n",
    "f.close()"
   ]
  },
  {
   "cell_type": "code",
   "execution_count": null,
   "id": "cb2fcae8",
   "metadata": {},
   "outputs": [],
   "source": []
  }
 ],
 "metadata": {
  "kernelspec": {
   "display_name": "Python 3 (ipykernel)",
   "language": "python",
   "name": "python3"
  },
  "language_info": {
   "codemirror_mode": {
    "name": "ipython",
    "version": 3
   },
   "file_extension": ".py",
   "mimetype": "text/x-python",
   "name": "python",
   "nbconvert_exporter": "python",
   "pygments_lexer": "ipython3",
   "version": "3.9.7"
  }
 },
 "nbformat": 4,
 "nbformat_minor": 5
}
