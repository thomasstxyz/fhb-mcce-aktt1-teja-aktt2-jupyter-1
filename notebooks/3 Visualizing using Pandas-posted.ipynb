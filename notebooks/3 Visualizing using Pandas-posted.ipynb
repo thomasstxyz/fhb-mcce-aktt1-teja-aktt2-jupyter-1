{
 "cells": [
  {
   "cell_type": "markdown",
   "metadata": {
    "id": "cqBKeTQTikT_"
   },
   "source": [
    "# Visualizations using Pandas\n",
    "\n",
    "Pandas uses Matplotlib in the background for plotting."
   ]
  },
  {
   "cell_type": "markdown",
   "metadata": {
    "id": "DdKoFJ9aikUC"
   },
   "source": [
    "# 1. Example plots using a dataset\n",
    "\n",
    "This dataset shows if a room is occupied or not based on certain measured paramters. Occupancy detection dataset obtained from [here](https://archive.ics.uci.edu/ml/datasets/Occupancy+Detection+#). \n",
    "\n",
    "Columns explanation:\n",
    "\n",
    "- date: date and time when the values were recorded \n",
    "- Temperature: measured in Celsius\n",
    "- Humidity: relative humidity - present state of absolute humidity relative to a maximum humidity given the same temperature expressed as a percentage\n",
    "- Light: in Lux unit\n",
    "- CO2: in ppm unit (parts per million)\n",
    "- HumidityRatio: derived quantity from temperature and relative humidity, expressed in kilograms of water vapor per kilogram of dry air  \n",
    "- Occupancy: the presence of a person in the room: the occupancy of the room was obtained from pictures that were taken every minute for 8 days (1 if a person is present, 0 otherwise)\n"
   ]
  },
  {
   "cell_type": "code",
   "execution_count": null,
   "metadata": {
    "id": "UabTTppTikUD"
   },
   "outputs": [],
   "source": [
    "# Importing\n",
    "import pandas as pd\n",
    "import numpy as np\n",
    "import matplotlib\n",
    "\n",
    "# pyplot module is used to set the size of graphs, etc.\n",
    "import matplotlib.pyplot as plt\n",
    "\n",
    "# rcParams allow us to set the size global for the whole notebook \n",
    "# In some plots, we will define the size inside the plotting function \n",
    "plt.rcParams['figure.figsize'] = [13,9]\n",
    "\n",
    "# Suppressing warnings\n",
    "import warnings\n",
    "warnings.filterwarnings(\"ignore\", category=np.VisibleDeprecationWarning) "
   ]
  },
  {
   "cell_type": "code",
   "execution_count": null,
   "metadata": {
    "id": "ZbUl0VRfqrS1"
   },
   "outputs": [],
   "source": [
    "# Loading the data via locally into Jupyter notebook\n",
    " \n",
    "data = pd.read_csv(\"Data/room_occupancy.txt\")"
   ]
  },
  {
   "cell_type": "code",
   "execution_count": null,
   "metadata": {
    "id": "E7rYqDHSikUF"
   },
   "outputs": [],
   "source": [
    "# Take a look at the first 10 rows\n",
    "data.head(10)"
   ]
  },
  {
   "cell_type": "markdown",
   "metadata": {
    "id": "x4Vsr1sfikUJ"
   },
   "source": [
    "# 2. Exploring the data\n",
    "Data type of columns."
   ]
  },
  {
   "cell_type": "code",
   "execution_count": null,
   "metadata": {
    "id": "tHMf7UmeikUK"
   },
   "outputs": [],
   "source": [
    "# Check columns data type\n",
    "data.dtypes"
   ]
  },
  {
   "cell_type": "markdown",
   "metadata": {
    "id": "bcirPY8WikUL"
   },
   "source": [
    "Note 'date' is an 'object'. "
   ]
  },
  {
   "cell_type": "code",
   "execution_count": null,
   "metadata": {
    "id": "Og6sVHl9ikUL"
   },
   "outputs": [],
   "source": [
    "# Convert 'date' column using Pandas to_datetime() function\n",
    "data['date'] = pd.to_datetime(data['date'])"
   ]
  },
  {
   "cell_type": "markdown",
   "metadata": {
    "id": "ZGF5E9lSikUM"
   },
   "source": [
    "Checking for missing values"
   ]
  },
  {
   "cell_type": "code",
   "execution_count": null,
   "metadata": {
    "id": "AqmYcurFikUN"
   },
   "outputs": [],
   "source": [
    "# Check missing values\n",
    "data.isnull().sum()"
   ]
  },
  {
   "cell_type": "markdown",
   "metadata": {
    "id": "_F_tXCbJnrGg"
   },
   "source": [
    "# 3. Plot function"
   ]
  },
  {
   "cell_type": "markdown",
   "metadata": {
    "id": "euByBcIuikUO"
   },
   "source": [
    "## 3.1 Default Line plot\n",
    "\n",
    "Selecting all numerical columns and plotting them using `plot()`. Is there any drawback of this approach? "
   ]
  },
  {
   "cell_type": "code",
   "execution_count": null,
   "metadata": {
    "id": "GqfoBApbikUO"
   },
   "outputs": [],
   "source": [
    "# Creating a line plot of numerical columns\n",
    "data.select_dtypes('number').plot()"
   ]
  },
  {
   "cell_type": "markdown",
   "metadata": {
    "id": "fi0XBF4hikUP"
   },
   "source": [
    "Plotting 'Temperature'"
   ]
  },
  {
   "cell_type": "code",
   "execution_count": null,
   "metadata": {
    "id": "YsPcRCAYikUP"
   },
   "outputs": [],
   "source": [
    "# Creating a line plot of 'Temperature'  \n",
    "data['Temperature'].plot(color = 'violet')"
   ]
  },
  {
   "cell_type": "markdown",
   "metadata": {},
   "source": [
    "To plot multiple columns, pass a **list** of columns:\n",
    "\n",
    "``` data[['column_1', 'vcolumn_2']].plot(color = {'column_1':'yellow', 'column_2': 'black'})```"
   ]
  },
  {
   "cell_type": "code",
   "execution_count": null,
   "metadata": {
    "id": "qB6HPEyVikUR"
   },
   "outputs": [],
   "source": [
    "# TASK 1 >>> Create a lineplot of 'Temperature' and 'Humidity' columns\n",
    "#        >>> Set the color of 'Temperature' to be 'green' and 'Humidity' to be 'blue'\n",
    "#        >>> In the created plot, observe how humidity and temperature have been decreasing and increasing\n"
   ]
  },
  {
   "cell_type": "code",
   "execution_count": null,
   "metadata": {},
   "outputs": [],
   "source": [
    "# Task: Write code to plot all numerical columns on the same scale\n"
   ]
  },
  {
   "cell_type": "markdown",
   "metadata": {
    "id": "CjJkdLafikUV"
   },
   "source": [
    "### 3.1.1 Customizing parameters of a line plot"
   ]
  },
  {
   "cell_type": "markdown",
   "metadata": {
    "id": "vWhjj4ggikUW"
   },
   "source": [
    "Setting some parameters. See [documentation](https://pandas.pydata.org/pandas-docs/stable/reference/api/pandas.DataFrame.plot.html) for details."
   ]
  },
  {
   "cell_type": "code",
   "execution_count": null,
   "metadata": {
    "id": "PWnv3Z5SikUW"
   },
   "outputs": [],
   "source": [
    "# A lineplot of the amount of CO2 vs. date\n",
    "\n",
    "data.plot(x = 'date', y = 'CO2',             # Specifying variabes on the axis\n",
    "          figsize = (15,8),                  # Setting a Figure object size as a tuple\n",
    "          fontsize = 9,                      # Setting ticks font size \n",
    "          color = 'skyblue',                 # Setting a color\n",
    "          title = 'Amount of CO2 over time', # Setting a title of a plot \n",
    "          xlabel = 'Date',                   # Customizing x-axis label (column name by default)\n",
    "          ylabel = 'CO2 (in ppm)');          # Customizing y-axis label (no label by default)"
   ]
  },
  {
   "cell_type": "markdown",
   "metadata": {
    "id": "ZqbMg9zRikUX"
   },
   "source": [
    "The line plot shows a trend of CO2 amount over a period of time from 12.02.2015 (Thursday) to 18.02.2015 (Wednesday). The graph displays how the amount of CO2 has decreased during the weekend (14.02.2015 - 15.02.2015). "
   ]
  },
  {
   "cell_type": "markdown",
   "metadata": {
    "id": "7hcFaVxTikUX"
   },
   "source": [
    "## 3.2 Plot types\n",
    "\n",
    "2 Approaches to plot data. Use  `kind` parameter to select other plot styles. \n",
    "\n",
    "➡ **First approach: plot() function**\n",
    "\n",
    "There are 10 plot styles you can specify as an argument provided as a string:\n",
    "\n",
    "- `hist`   - histogram  \n",
    "- `box`    - boxplot  \n",
    "- `bar`    - vertical barplot  \n",
    "- `barh`   - horizontal barplot  \n",
    "- `scatter`- scatterplot  \n",
    "- `pie`    - pie plot  \n",
    "- `kde`    - density plot  \n",
    "- `density`- density plot  \n",
    "- `area`   - area plot  \n",
    "- `hexbin` - hexagonal bin plot  \n",
    "\n",
    "➡ **Second approach: plotting functions**\n",
    "Alternatively, all of these plots can be created using corresponding plotting functions:\n",
    "\n",
    "- `DataFrame.plot.line`\n",
    "- `DataFrame.plot.hist`\n",
    "- `DataFrame.plot.box`\n",
    "- `DataFrame.plot.bar`\n",
    "- `DataFrame.plot.barh`\n",
    "- `DataFrame.plot.scatter`\n",
    "- `DataFrame.plot.pie`\n",
    "- `DataFrame.plot.kde`\n",
    "- `DataFrame.plot.density`\n",
    "- `DataFrame.plot.area`\n",
    "- `DataFrame.plot.hexbin`\n",
    "\n",
    "Bonus: For a histogram and a boxplot there are aditionally two plotting functions: `DataFrame.hist()` and `DataFrame.boxplot()`!!!???"
   ]
  },
  {
   "cell_type": "markdown",
   "metadata": {
    "id": "_JOid0axikUY"
   },
   "source": [
    "### 3.2.1 Histogram\n"
   ]
  },
  {
   "cell_type": "markdown",
   "metadata": {
    "id": "fZ3ow4CNikUY"
   },
   "source": [
    "A histogram displays the distribution of data points creating 'bins'."
   ]
  },
  {
   "cell_type": "code",
   "execution_count": null,
   "metadata": {
    "id": "ci9NuMPeikUZ"
   },
   "outputs": [],
   "source": [
    "# Take a look at the descriptive statistics using .describe()\n",
    "data.HumidityRatio.describe()"
   ]
  },
  {
   "cell_type": "markdown",
   "metadata": {
    "id": "qWl4bnEfikUZ"
   },
   "source": [
    "Let´s create a histogram of 'HumidityRatio' column."
   ]
  },
  {
   "cell_type": "code",
   "execution_count": null,
   "metadata": {
    "id": "uXOdDasCzzAW"
   },
   "outputs": [],
   "source": [
    "# Histogram\n",
    "data['HumidityRatio'].plot(kind ='hist', \n",
    "                           figsize = (11,8), \n",
    "                           title = 'Humidity ratio distribution')     \n",
    "\n",
    "# X-axis label\n",
    "plt.xlabel('Humidity Ratio');                                    "
   ]
  },
  {
   "cell_type": "markdown",
   "metadata": {
    "id": "c8kSyuQXzzeD"
   },
   "source": [
    "#### 3.2.1.1 Customizing parameters of a histogram"
   ]
  },
  {
   "cell_type": "code",
   "execution_count": null,
   "metadata": {
    "id": "W47IUq4XikUa"
   },
   "outputs": [],
   "source": [
    "# The distribution of 'HumidityRatio'\n",
    "data['HumidityRatio'].plot(kind ='hist',\n",
    "                      figsize = (11,8),                      # Setting the size of a graph\n",
    "                      bins = 15,                             # Changing the number of bins\n",
    "                      color = '#ff7f0e',                     # Setting the color\n",
    "                      alpha = .5,                            # Setting the transparency of a color                \n",
    "                      title = 'Humidity ratio distribution');# Setting the title"
   ]
  },
  {
   "cell_type": "code",
   "execution_count": null,
   "metadata": {
    "id": "9Iqd8fonikUf"
   },
   "outputs": [],
   "source": [
    "# TASK 2 >>> Create a histogram of 'Humidity' column in the same way as we did above\n",
    "#        >>> Change the number of bins to 15 and observe the output \n",
    "#        >>> Set color parameter to '#095056'\n",
    "#        >>> Set the transparency to .7\n",
    "#        >>> Set the title to 'Humidity distribution'\n"
   ]
  },
  {
   "cell_type": "markdown",
   "metadata": {
    "id": "47XvDMsmikUf"
   },
   "source": [
    "Using `hist()` function on the whole DataFrame to get a picture of the distribution per column:"
   ]
  },
  {
   "cell_type": "code",
   "execution_count": null,
   "metadata": {
    "id": "2efTyuaCikUg"
   },
   "outputs": [],
   "source": [
    "# The data distribution of all of the columns\n",
    "\n",
    "data.hist(layout = (1,7),                        # Setting layout of 1 rows and 7 columns\n",
    "          grid = False,                          # Disabling the grid\n",
    "          figsize = (22,5))                      # Setting the size of graph\n",
    "plt.suptitle('The distribution of values');      # Adding a suptitle using Matplotlib"
   ]
  },
  {
   "cell_type": "markdown",
   "metadata": {
    "id": "88ZOUTT0ikUg"
   },
   "source": [
    "### 3.2.2 Boxplot (box-and-whisker plot)\n",
    "\n",
    "The box extends from the Q1 to Q3 quartile values of the data, with a line at the median (Q2). The whiskers extend from the edges of box to show the range of the data. By default, they extend no more than 1.5 * IQR (IQR = Q3 - Q1) from the edges of the box, ending at the farthest data point within that interval. Outliers are plotted as separate dots.\n",
    "\n",
    "See [documentation](https://pandas.pydata.org/pandas-docs/stable/reference/api/pandas.DataFrame.boxplot.html) for details."
   ]
  },
  {
   "cell_type": "code",
   "execution_count": null,
   "metadata": {
    "id": "nctLsbsQyD47"
   },
   "outputs": [],
   "source": [
    "# Creating a boxplot of 'Temperature'\n",
    "data['Temperature'].plot(kind = 'box');"
   ]
  },
  {
   "cell_type": "code",
   "execution_count": null,
   "metadata": {
    "id": "F0BOotjOikUi"
   },
   "outputs": [],
   "source": [
    "# Computing 25th percentile, median value and 75th percentile of 'Temperature' column\n",
    "perc_25, median, perc_75 = data.Temperature.quantile([.25,.5,.75])"
   ]
  },
  {
   "cell_type": "code",
   "execution_count": null,
   "metadata": {
    "id": "6X81tMtdikUi"
   },
   "outputs": [],
   "source": [
    "# Printing the output\n",
    "perc_25, median, perc_75"
   ]
  },
  {
   "cell_type": "markdown",
   "metadata": {
    "id": "sK_-suoGyDPE"
   },
   "source": [
    "#### 3.2.2.1 Customizing parameters of a boxplot\n",
    "\n",
    "If you want to customize things such as color, width, or line style, use `boxprops`,`whiskerprops`,`medianprops` and `capprops` parameters."
   ]
  },
  {
   "cell_type": "code",
   "execution_count": null,
   "metadata": {
    "id": "b2r2EX16ikUh",
    "scrolled": false
   },
   "outputs": [],
   "source": [
    "# A boxplot of relative humidity\n",
    "data['HumidityRatio'].plot(kind = 'box', \n",
    "                           figsize = (11,8),\n",
    "                           boxprops = dict(linewidth = 1.5, color = 'green',linestyle = '-.'),# Customizing the box\n",
    "                           whiskerprops = dict(linewidth = 1.5, color = 'pink'),              # Customizing the whiskers\n",
    "                           medianprops = dict(linewidth = 1.5, color = 'red'),                # Customizing median line\n",
    "                           capprops = dict(linewidth = 1.5, color = 'darkblue'),              # Customizing caps on the whiskers\n",
    "                           title = 'Boxplot of Humidity ratio');"
   ]
  },
  {
   "cell_type": "markdown",
   "metadata": {
    "id": "RI_FCn2uikUj"
   },
   "source": [
    "Using `boxplot()` from `Pandas`. \n",
    "\n",
    "Boxplots are useful to compare two or more groups. For example, amount of carbon dioxide ('CO2' column) and person´s presence in the room ('Occupancy' column)."
   ]
  },
  {
   "cell_type": "code",
   "execution_count": null,
   "metadata": {
    "id": "gJwpqA5oUtVx"
   },
   "outputs": [],
   "source": [
    "data.groupby('Occupancy').count()"
   ]
  },
  {
   "cell_type": "code",
   "execution_count": null,
   "metadata": {
    "id": "2Oxz3FM4ikUj"
   },
   "outputs": [],
   "source": [
    "# A boxplot of CO2 by occupancy of the room\n",
    "data.boxplot(figsize = (10,8),\n",
    "             column = 'CO2', \n",
    "             by = 'Occupancy');\n",
    "\n",
    "# Setting x-tick labels using Matplotlib \n",
    "plt.xticks([1,2], ['Not occupied room','Occupied room']);"
   ]
  },
  {
   "cell_type": "markdown",
   "metadata": {
    "id": "NAban88SikUk"
   },
   "source": [
    "### 3.2.3 Bar plot\n",
    "\n",
    "Bar plots are useful when we want to compare categorical data based on their values. Each category is drawn on the x-axis, and the height of the bars represents corresponding values. \n",
    "\n",
    "To demonstrate this concept, we create a simple DataFrame of students and their exam scores."
   ]
  },
  {
   "cell_type": "code",
   "execution_count": null,
   "metadata": {
    "id": "ASWYjQlIikUk"
   },
   "outputs": [],
   "source": [
    "# Example data\n",
    "sample_data = pd.DataFrame({'Student': ['Thomas','Margaret','Lisa','John','Elis','Sally','Marc','Angela','Sebastian'],\n",
    "                            'Score': [78,50,68,83,99,98,65,90,85],\n",
    "                            'Class': ['A','B','C','B','A','A','A','B','A']})\n",
    "\n",
    "# Printing the output\n",
    "sample_data"
   ]
  },
  {
   "cell_type": "markdown",
   "metadata": {
    "id": "MnmMFTaD4Zz6"
   },
   "source": [
    "To create a bar plot, we sort values by a score in descending fashion to display students' scores. If the categories have more extended labels, it´s appropriate to set rotation to avoid overlapping. You can explicitly set the color of each bar using `color` parameter:"
   ]
  },
  {
   "cell_type": "code",
   "execution_count": null,
   "metadata": {
    "id": "t_lsZ1auikUl"
   },
   "outputs": [],
   "source": [
    "# A vertical barplot of students by their score\n",
    "sample_data.sort_values(by = 'Score', ascending = False).plot(x = 'Student', \n",
    "                                                              y = 'Score',\n",
    "                                                              kind = 'bar', \n",
    "                                                              rot = 45,\n",
    "                                                              color = ['mediumseagreen','lightgreen','sandybrown',\n",
    "                                                                      'lightcoral','wheat','lightsteelblue',\n",
    "                                                                      'slategrey','teal','black'],\n",
    "                                                              legend = False);"
   ]
  },
  {
   "cell_type": "code",
   "execution_count": null,
   "metadata": {
    "id": "NvPxJ4y-ikUm"
   },
   "outputs": [],
   "source": [
    "# TASK 3 >>> Reuse the code above and create a HORIZONTAL (left-right) barplot (kind = 'barh') of students score ()\n",
    "#        >>> Set the colormaps with code: plt.cm.Set3_r(np.arange(len(sample_data)))\n",
    "#        >>> Disable the legend\n"
   ]
  },
  {
   "cell_type": "markdown",
   "metadata": {
    "id": "juJVhzVgikUm"
   },
   "source": [
    "To visualize the count of students based on their class, we need to count the number of occurrences:"
   ]
  },
  {
   "cell_type": "code",
   "execution_count": null,
   "metadata": {
    "id": "A3jwcv58ikUm"
   },
   "outputs": [],
   "source": [
    "# Creating a bar plot of 'Class'\n",
    "sample_data.Class.value_counts().plot(kind = 'bar', rot = 0);"
   ]
  },
  {
   "cell_type": "markdown",
   "metadata": {
    "id": "8ATglCNWikUn"
   },
   "source": [
    "# 4. Practice time\n",
    "\n",
    "Now it's your turn to create some visualizations! You will explore [Obesity levels dataset](https://archive.ics.uci.edu/ml/datasets/Estimation+of+obesity+levels+based+on+eating+habits+and+physical+condition+#) and visualize some of the columns. Below you can see the full explanation of columns present in the dataset.\n",
    "\n",
    "\n"
   ]
  },
  {
   "cell_type": "markdown",
   "metadata": {
    "id": "5BblLIt-a7WY"
   },
   "source": [
    "## 4.1 Columns explanation\n",
    "\n",
    "The first 5 columns involves some basic information about individuals along with the information about presence of overweight in a family.\n",
    "\n",
    "- Gender: the gender\n",
    "- Age: the age\n",
    "- Height: the height \n",
    "- Weight: the weight \n",
    "- family_history_with_overweight: family member who is/was overweight\n",
    "\n",
    "Columns related to eating habits:\n",
    "\n",
    "- FAVC: whether an individual consumes high caloric food frequently\n",
    "- FCVC: how frequently are vegetables used in main meals\n",
    "- NCP: the number of main meals per day\n",
    "- CAEC: consuming any food between main meals\n",
    "- SMOKE: smoking\n",
    "- CH2O: consumption of water per day\n",
    "\n",
    "Columns related to physical condition:\n",
    "- SCC: calories intake tracking\n",
    "- FAF: physical activity frequency\n",
    "- TUE: usage of technological devices per day\n",
    "- CALC: alcohol consumption\n",
    "- MTRANS: type of transportation\n",
    "\n",
    "The last column 'NObeyesdad' was created using equation for BMI (Body Mass Index) for each individual. Resulting values were compared with the data provided by WHO (World Health Organization) and the Mexican Normativity. \n",
    "\n",
    "Resulting labels:\n",
    "\n",
    "-Underweight (< 18.5)   \n",
    "-Normal (18.5 - 24.9)   \n",
    "-Overweight (25 - 29.9)  \n",
    "-Obesity I (30 - 34.9)  \n",
    "-Obesity II (35 - 39)  \n",
    "-Obesity III (> 40)  \n"
   ]
  },
  {
   "cell_type": "code",
   "execution_count": null,
   "metadata": {
    "id": "2PGCl12UikUn"
   },
   "outputs": [],
   "source": [
    "# Loading the 'obesity_data.csv' via relative path into Jupyter notebook\n"
   ]
  },
  {
   "cell_type": "code",
   "execution_count": null,
   "metadata": {
    "id": "78WlRuUMikUo"
   },
   "outputs": [],
   "source": [
    "# Take a look at the first 5 rows\n"
   ]
  },
  {
   "cell_type": "markdown",
   "metadata": {
    "id": "X8Hv4LMXikUp"
   },
   "source": [
    "### 4.1.1 Exploring the data"
   ]
  },
  {
   "cell_type": "code",
   "execution_count": null,
   "metadata": {
    "id": "QZvWtYe5ikUp"
   },
   "outputs": [],
   "source": [
    "# Check columns data type\n"
   ]
  },
  {
   "cell_type": "code",
   "execution_count": null,
   "metadata": {
    "id": "iQxi3_PSikUq"
   },
   "outputs": [],
   "source": [
    "# Explore descriptive statistics\n"
   ]
  },
  {
   "cell_type": "code",
   "execution_count": null,
   "metadata": {
    "id": "xAh2ybkIikUq"
   },
   "outputs": [],
   "source": [
    "# Check missing values\n"
   ]
  },
  {
   "cell_type": "code",
   "execution_count": null,
   "metadata": {
    "id": "0GtvXl9tikUr"
   },
   "outputs": [],
   "source": [
    "# Duplicated rows\n"
   ]
  },
  {
   "cell_type": "code",
   "execution_count": null,
   "metadata": {
    "id": "wB0wRQhUikUr"
   },
   "outputs": [],
   "source": [
    "# Removing duplicated rows\n"
   ]
  },
  {
   "cell_type": "code",
   "execution_count": null,
   "metadata": {
    "id": "mCqx9KH6ikUs"
   },
   "outputs": [],
   "source": [
    "# TASK 4 >>> Create a boxplot of 'Age' column\n",
    "#        >>> Set the size of a graph to (10,8)\n"
   ]
  },
  {
   "cell_type": "markdown",
   "metadata": {
    "id": "hhatwwkHikUs"
   },
   "source": [
    "> What can you say about age distribution? How old is the majority of people? Is the distribution symmetrical, or are there people substantially older compared to the majority?"
   ]
  },
  {
   "cell_type": "code",
   "execution_count": null,
   "metadata": {
    "id": "dbIbKKTpikUt"
   },
   "outputs": [],
   "source": [
    "# TASK 5 >>> Visualize the distribution of 'Weight' column using a histogram\n",
    "#        >>> Disable a grid line\n",
    "#        >>> Try to set different numbers of bins\n"
   ]
  },
  {
   "cell_type": "markdown",
   "metadata": {
    "id": "R-pjJD06ikUt"
   },
   "source": [
    "> Based on the histogram, what is the most common weight? Does this distribution look symmetrical, or rather bimodal? Could a different number of bins reflect the data better?"
   ]
  },
  {
   "cell_type": "code",
   "execution_count": null,
   "metadata": {
    "id": "sYOjKgq7ikUu"
   },
   "outputs": [],
   "source": [
    "# TASK 6 >>> Create a bar plot with relative frequencies of 'Gender' column - specify parameter: normalize = True\n",
    "#        >>> Assign different colors to males and females (male to 'salmon', female to 'skyblue')\n",
    "#        >>> Add title: 'Proportion of gender'\n"
   ]
  },
  {
   "cell_type": "code",
   "execution_count": null,
   "metadata": {
    "id": "6lzjFqiZikUu"
   },
   "outputs": [],
   "source": [
    "# TASK 7 >>> Create boxplots of 'Age' by gender\n"
   ]
  },
  {
   "cell_type": "markdown",
   "metadata": {
    "id": "3zHTYCYmikUv"
   },
   "source": [
    "> Compare the ranges of values for male and female: Is the distribution similar or is there some difference? Do you see any outliers? "
   ]
  },
  {
   "cell_type": "code",
   "execution_count": null,
   "metadata": {
    "id": "sSR0IOwdikUv"
   },
   "outputs": [],
   "source": [
    "# TASK 8 >>> Find out how many people eat frequently high caloric meals ('FAVC')\n",
    "#        >>> Set rotation of x-ticks to 0 degrees\n"
   ]
  },
  {
   "cell_type": "markdown",
   "metadata": {
    "id": "NIWi7vM_ikUv"
   },
   "source": [
    "The question we might ask regarding obesity levels could be: 'Which individuals are more likely to be obese based on their age?' or 'Are younger adults overweight?'.\n",
    "\n",
    "Firstly, let´s look at how many levels are there. Call `.value_counts()` function on 'NObeyesdad' column and sort categories based on obesity."
   ]
  },
  {
   "cell_type": "code",
   "execution_count": null,
   "metadata": {
    "id": "t8bY5A_KikUw"
   },
   "outputs": [],
   "source": [
    "# Counting values of the obesity levels\n",
    "data_ob.NObeyesdad.value_counts()"
   ]
  },
  {
   "cell_type": "markdown",
   "metadata": {
    "id": "N9D0vEhUikUw"
   },
   "source": [
    "At first, we change data type of 'NObeyesdad' to category type in order to display obesity level in the graph in the correct order, from insufficient weight to obesity type III.\n",
    "\n",
    "So we specify the order of obesity levels in a list and assign it to variable 'obesity_levels':"
   ]
  },
  {
   "cell_type": "code",
   "execution_count": null,
   "metadata": {
    "id": "6Y9wO81hikUx"
   },
   "outputs": [],
   "source": [
    "# Ordered categories\n",
    "obesity_levels = ['Insufficient_Weight','Normal_Weight', 'Overweight_Level_I', 'Overweight_Level_II',\n",
    "                  'Obesity_Type_I', 'Obesity_Type_II', 'Obesity_Type_III']"
   ]
  },
  {
   "cell_type": "markdown",
   "metadata": {
    "id": "vjW6XV-iikUx"
   },
   "source": [
    "Then we create category type using `CategoricalDtype()` function where we specify that values are ordered and pass 'obesity_levels' to `categories` parameter:"
   ]
  },
  {
   "cell_type": "code",
   "execution_count": null,
   "metadata": {
    "id": "izMXsf5jikUx"
   },
   "outputs": [],
   "source": [
    "# Creating category type\n",
    "ob_level = pd.api.types.CategoricalDtype(ordered = True, categories = obesity_levels)"
   ]
  },
  {
   "cell_type": "markdown",
   "metadata": {
    "id": "_W1Vl2vBikUy"
   },
   "source": [
    "The last step is converting the original data type of 'NObeyesdad' column to a category data type using `astype()` function:"
   ]
  },
  {
   "cell_type": "code",
   "execution_count": null,
   "metadata": {
    "id": "m7jtToRiikUy"
   },
   "outputs": [],
   "source": [
    "# Converting 'NObeyesdad' to category type\n",
    "data_ob.NObeyesdad = data_ob.NObeyesdad.astype(ob_level)"
   ]
  },
  {
   "cell_type": "markdown",
   "metadata": {
    "id": "6NnWN2oUikUy"
   },
   "source": [
    "We can plot obesity levels to see how these vary according to the age of individuals. To avoid overlapping label names of these categories, you can set the rotation of labels to 45 degrees with `rot` parameter. Also, disabling grid lines can help visualization to be more compendious."
   ]
  },
  {
   "cell_type": "code",
   "execution_count": null,
   "metadata": {
    "id": "CuREAkw4ikUz"
   },
   "outputs": [],
   "source": [
    "# TASK 9 >>> Create a boxplot of column 'Age' by 'NObeyesdad'\n",
    "#        >>> Set a Figure size: (10,8)\n",
    "#        >>> Set labels on x-axis to 45 using rot parameter\n",
    "#        >>> Disable grid line\n"
   ]
  },
  {
   "cell_type": "markdown",
   "metadata": {
    "id": "5iYJDQrgikUz"
   },
   "source": [
    "> Looking at the created plot, can you see some patterns? At what ages do people tend to suffer from some obesity level? "
   ]
  },
  {
   "cell_type": "code",
   "execution_count": null,
   "metadata": {
    "id": "DawQtZGvikUz"
   },
   "outputs": [],
   "source": [
    "# TASK 10 >>> Create a bar plot of 'MTRANS' column to find out how many people use certain kind of transportation\n",
    "#         >>> Set labels on x-axis to 45 using rot parameter\n",
    "#         >>> Set color: 'skyblue'\n",
    "#         >>> What is the most popular kind of transportation? \n"
   ]
  },
  {
   "cell_type": "markdown",
   "metadata": {
    "id": "es6IctIoikU0"
   },
   "source": [
    "Let´s filter only those individuals who use an automobile for transportation or walk. Then we´ll look at their weight."
   ]
  },
  {
   "cell_type": "code",
   "execution_count": null,
   "metadata": {
    "id": "eLv8lbigikU0"
   },
   "outputs": [],
   "source": [
    "# Filtering only those rows where transportation kind is \"Automobile\" and \"Walking\"\n",
    "subset_transport = data_ob[data_ob['MTRANS'].isin([\"Automobile\",\"Walking\"])]"
   ]
  },
  {
   "cell_type": "code",
   "execution_count": null,
   "metadata": {
    "id": "Q2SV_bo9ikU1"
   },
   "outputs": [],
   "source": [
    "# TASK 11 >>> Create a boxplot of newly created 'subset_transport' DataFrame\n",
    "#         >>> Set a Figure size: (10,8)\n",
    "#         >>> Set 'Weight' to column parameter and 'MTRANS' to by parameter\n",
    "#         >>> Set labels on x-axis to 45 using rot parameter\n",
    "#         >>> Disable a grid line\n"
   ]
  },
  {
   "cell_type": "markdown",
   "metadata": {
    "id": "q4kM6HuWikU1"
   },
   "source": [
    "> What can you say about the distribution of these two groups of people? Which group has a lower weight overall? Looking at the result, are you motivated to take a walk? :)"
   ]
  }
 ],
 "metadata": {
  "colab": {
   "collapsed_sections": [],
   "provenance": []
  },
  "kernelspec": {
   "display_name": "Python 3 (ipykernel)",
   "language": "python",
   "name": "python3"
  },
  "language_info": {
   "codemirror_mode": {
    "name": "ipython",
    "version": 3
   },
   "file_extension": ".py",
   "mimetype": "text/x-python",
   "name": "python",
   "nbconvert_exporter": "python",
   "pygments_lexer": "ipython3",
   "version": "3.9.13"
  }
 },
 "nbformat": 4,
 "nbformat_minor": 1
}
